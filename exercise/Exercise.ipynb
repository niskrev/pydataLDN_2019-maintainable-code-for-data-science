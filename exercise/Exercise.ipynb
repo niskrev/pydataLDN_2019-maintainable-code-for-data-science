{
 "cells": [
  {
   "cell_type": "markdown",
   "metadata": {},
   "source": [
    "# Maintainable Code in Data Science\n",
    "\n",
    "This notebook should be used to test your implementation of the different functions provided in the exercise. If you're stuck, check the solution.\n",
    "\n",
    "Since you will be working in an IDE and importing your functions and classes in this notebook, we can use the `autoreload` magic method that automatically reloads your code when you modify it, so you do not have to restart the notebook everytime."
   ]
  },
  {
   "cell_type": "code",
   "execution_count": 1,
   "metadata": {},
   "outputs": [],
   "source": [
    "%load_ext autoreload\n",
    "%autoreload 2"
   ]
  },
  {
   "cell_type": "markdown",
   "metadata": {},
   "source": [
    "First, the `load_dataset` function in your `model.py` should allow to load X and y (either train or test). The command below will load the training set. Check the folder `data` and the function `load_dataset` for more details.\n",
    "\n",
    "Here it is important to note that we have fixed `dtype` in `read_csv` to ensure whatever data we load, pandas will always try to load the columns with the same types."
   ]
  },
  {
   "cell_type": "code",
   "execution_count": 2,
   "metadata": {},
   "outputs": [],
   "source": [
    "from model import load_dataset\n",
    "\n",
    "X_train, y_train = load_dataset(\"X_train.zip\", \"y_train.zip\")"
   ]
  },
  {
   "cell_type": "code",
   "execution_count": 5,
   "metadata": {},
   "outputs": [
    {
     "data": {
      "text/html": [
       "<div>\n",
       "<style scoped>\n",
       "    .dataframe tbody tr th:only-of-type {\n",
       "        vertical-align: middle;\n",
       "    }\n",
       "\n",
       "    .dataframe tbody tr th {\n",
       "        vertical-align: top;\n",
       "    }\n",
       "\n",
       "    .dataframe thead th {\n",
       "        text-align: right;\n",
       "    }\n",
       "</style>\n",
       "<table border=\"1\" class=\"dataframe\">\n",
       "  <thead>\n",
       "    <tr style=\"text-align: right;\">\n",
       "      <th></th>\n",
       "      <th>state</th>\n",
       "    </tr>\n",
       "  </thead>\n",
       "  <tbody>\n",
       "    <tr>\n",
       "      <th>0</th>\n",
       "      <td>1</td>\n",
       "    </tr>\n",
       "    <tr>\n",
       "      <th>1</th>\n",
       "      <td>1</td>\n",
       "    </tr>\n",
       "    <tr>\n",
       "      <th>2</th>\n",
       "      <td>1</td>\n",
       "    </tr>\n",
       "    <tr>\n",
       "      <th>3</th>\n",
       "      <td>1</td>\n",
       "    </tr>\n",
       "    <tr>\n",
       "      <th>4</th>\n",
       "      <td>0</td>\n",
       "    </tr>\n",
       "  </tbody>\n",
       "</table>\n",
       "</div>"
      ],
      "text/plain": [
       "   state\n",
       "0      1\n",
       "1      1\n",
       "2      1\n",
       "3      1\n",
       "4      0"
      ]
     },
     "execution_count": 5,
     "metadata": {},
     "output_type": "execute_result"
    }
   ],
   "source": [
    "y_train.head()"
   ]
  },
  {
   "cell_type": "code",
   "execution_count": 6,
   "metadata": {},
   "outputs": [
    {
     "data": {
      "text/plain": [
       "((10000, 24), (10000, 1))"
      ]
     },
     "execution_count": 6,
     "metadata": {},
     "output_type": "execute_result"
    }
   ],
   "source": [
    "X_train.shape, y_train.shape"
   ]
  },
  {
   "cell_type": "code",
   "execution_count": 3,
   "metadata": {},
   "outputs": [
    {
     "data": {
      "text/html": [
       "<div>\n",
       "<style scoped>\n",
       "    .dataframe tbody tr th:only-of-type {\n",
       "        vertical-align: middle;\n",
       "    }\n",
       "\n",
       "    .dataframe tbody tr th {\n",
       "        vertical-align: top;\n",
       "    }\n",
       "\n",
       "    .dataframe thead th {\n",
       "        text-align: right;\n",
       "    }\n",
       "</style>\n",
       "<table border=\"1\" class=\"dataframe\">\n",
       "  <thead>\n",
       "    <tr style=\"text-align: right;\">\n",
       "      <th></th>\n",
       "      <th>photo</th>\n",
       "      <th>name</th>\n",
       "      <th>blurb</th>\n",
       "      <th>goal</th>\n",
       "      <th>slug</th>\n",
       "      <th>disable_communication</th>\n",
       "      <th>country</th>\n",
       "      <th>currency</th>\n",
       "      <th>currency_symbol</th>\n",
       "      <th>currency_trailing_code</th>\n",
       "      <th>...</th>\n",
       "      <th>creator</th>\n",
       "      <th>location</th>\n",
       "      <th>category</th>\n",
       "      <th>profile</th>\n",
       "      <th>urls</th>\n",
       "      <th>source_url</th>\n",
       "      <th>friends</th>\n",
       "      <th>is_starred</th>\n",
       "      <th>is_backing</th>\n",
       "      <th>permissions</th>\n",
       "    </tr>\n",
       "    <tr>\n",
       "      <th>id</th>\n",
       "      <th></th>\n",
       "      <th></th>\n",
       "      <th></th>\n",
       "      <th></th>\n",
       "      <th></th>\n",
       "      <th></th>\n",
       "      <th></th>\n",
       "      <th></th>\n",
       "      <th></th>\n",
       "      <th></th>\n",
       "      <th></th>\n",
       "      <th></th>\n",
       "      <th></th>\n",
       "      <th></th>\n",
       "      <th></th>\n",
       "      <th></th>\n",
       "      <th></th>\n",
       "      <th></th>\n",
       "      <th></th>\n",
       "      <th></th>\n",
       "      <th></th>\n",
       "    </tr>\n",
       "  </thead>\n",
       "  <tbody>\n",
       "    <tr>\n",
       "      <th>810643898</th>\n",
       "      <td>{\"small\":\"https://ksr-ugc.imgix.net/assets/011...</td>\n",
       "      <td>Reverence: A Documentary Short on Branded Yarm...</td>\n",
       "      <td>A documentary exploring the phenomenon of cust...</td>\n",
       "      <td>6000.0</td>\n",
       "      <td>reverence-a-documentary-short-on-custom-yarmulkes</td>\n",
       "      <td>False</td>\n",
       "      <td>US</td>\n",
       "      <td>USD</td>\n",
       "      <td>$</td>\n",
       "      <td>True</td>\n",
       "      <td>...</td>\n",
       "      <td>{\"urls\":{\"web\":{\"user\":\"https://www.kickstarte...</td>\n",
       "      <td>{\"country\":\"US\",\"urls\":{\"web\":{\"discover\":\"htt...</td>\n",
       "      <td>{\"urls\":{\"web\":{\"discover\":\"http://www.kicksta...</td>\n",
       "      <td>{\"background_image_opacity\":0.8,\"should_show_f...</td>\n",
       "      <td>{\"web\":{\"project\":\"https://www.kickstarter.com...</td>\n",
       "      <td>https://www.kickstarter.com/discover/categorie...</td>\n",
       "      <td>NaN</td>\n",
       "      <td>NaN</td>\n",
       "      <td>NaN</td>\n",
       "      <td>NaN</td>\n",
       "    </tr>\n",
       "    <tr>\n",
       "      <th>407153952</th>\n",
       "      <td>{\"small\":\"https://ksr-ugc.imgix.net/assets/011...</td>\n",
       "      <td>YOU Release the NEW Goddamn Electric Bill VINY...</td>\n",
       "      <td>Guarantee yourself one of 250 limited vinyl re...</td>\n",
       "      <td>1500.0</td>\n",
       "      <td>you-release-the-new-goddamn-electric-bill-viny...</td>\n",
       "      <td>False</td>\n",
       "      <td>US</td>\n",
       "      <td>USD</td>\n",
       "      <td>$</td>\n",
       "      <td>True</td>\n",
       "      <td>...</td>\n",
       "      <td>{\"urls\":{\"web\":{\"user\":\"https://www.kickstarte...</td>\n",
       "      <td>{\"country\":\"US\",\"urls\":{\"web\":{\"discover\":\"htt...</td>\n",
       "      <td>{\"urls\":{\"web\":{\"discover\":\"http://www.kicksta...</td>\n",
       "      <td>{\"background_image_opacity\":0.8,\"should_show_f...</td>\n",
       "      <td>{\"web\":{\"project\":\"https://www.kickstarter.com...</td>\n",
       "      <td>https://www.kickstarter.com/discover/categorie...</td>\n",
       "      <td>NaN</td>\n",
       "      <td>NaN</td>\n",
       "      <td>NaN</td>\n",
       "      <td>NaN</td>\n",
       "    </tr>\n",
       "    <tr>\n",
       "      <th>531190382</th>\n",
       "      <td>{\"small\":\"https://ksr-ugc.imgix.net/assets/011...</td>\n",
       "      <td>Lonely Estates Album</td>\n",
       "      <td>Lonely Estates are almost done with their debu...</td>\n",
       "      <td>1000.0</td>\n",
       "      <td>lonely-estates-album</td>\n",
       "      <td>False</td>\n",
       "      <td>US</td>\n",
       "      <td>USD</td>\n",
       "      <td>$</td>\n",
       "      <td>True</td>\n",
       "      <td>...</td>\n",
       "      <td>{\"urls\":{\"web\":{\"user\":\"https://www.kickstarte...</td>\n",
       "      <td>{\"country\":\"US\",\"urls\":{\"web\":{\"discover\":\"htt...</td>\n",
       "      <td>{\"urls\":{\"web\":{\"discover\":\"http://www.kicksta...</td>\n",
       "      <td>{\"background_image_opacity\":0.8,\"should_show_f...</td>\n",
       "      <td>{\"web\":{\"project\":\"https://www.kickstarter.com...</td>\n",
       "      <td>https://www.kickstarter.com/discover/categorie...</td>\n",
       "      <td>NaN</td>\n",
       "      <td>NaN</td>\n",
       "      <td>NaN</td>\n",
       "      <td>NaN</td>\n",
       "    </tr>\n",
       "    <tr>\n",
       "      <th>1253528325</th>\n",
       "      <td>{\"small\":\"https://ksr-ugc.imgix.net/assets/012...</td>\n",
       "      <td>Crit Hit! 2016 - a tabletop roleplaying gather...</td>\n",
       "      <td>A tabletop RPG focused event where you can pla...</td>\n",
       "      <td>3000.0</td>\n",
       "      <td>crit-hit-2016-a-tabletop-roleplaying-gathering-in</td>\n",
       "      <td>False</td>\n",
       "      <td>US</td>\n",
       "      <td>USD</td>\n",
       "      <td>$</td>\n",
       "      <td>True</td>\n",
       "      <td>...</td>\n",
       "      <td>{\"urls\":{\"web\":{\"user\":\"https://www.kickstarte...</td>\n",
       "      <td>{\"country\":\"US\",\"urls\":{\"web\":{\"discover\":\"htt...</td>\n",
       "      <td>{\"urls\":{\"web\":{\"discover\":\"http://www.kicksta...</td>\n",
       "      <td>{\"background_image_opacity\":1,\"should_show_fea...</td>\n",
       "      <td>{\"web\":{\"project\":\"https://www.kickstarter.com...</td>\n",
       "      <td>https://www.kickstarter.com/discover/categorie...</td>\n",
       "      <td>NaN</td>\n",
       "      <td>NaN</td>\n",
       "      <td>NaN</td>\n",
       "      <td>NaN</td>\n",
       "    </tr>\n",
       "    <tr>\n",
       "      <th>379783411</th>\n",
       "      <td>{\"small\":\"https://ksr-ugc.imgix.net/assets/011...</td>\n",
       "      <td>Hillsboro Arts Preschool Yearbook</td>\n",
       "      <td>The Yearbook will be a collection of drawings,...</td>\n",
       "      <td>2500.0</td>\n",
       "      <td>hillsboro-arts-preschool-yearbook</td>\n",
       "      <td>False</td>\n",
       "      <td>US</td>\n",
       "      <td>USD</td>\n",
       "      <td>$</td>\n",
       "      <td>True</td>\n",
       "      <td>...</td>\n",
       "      <td>{\"urls\":{\"web\":{\"user\":\"https://www.kickstarte...</td>\n",
       "      <td>{\"country\":\"US\",\"urls\":{\"web\":{\"discover\":\"htt...</td>\n",
       "      <td>{\"urls\":{\"web\":{\"discover\":\"http://www.kicksta...</td>\n",
       "      <td>{\"background_image_opacity\":0.8,\"should_show_f...</td>\n",
       "      <td>{\"web\":{\"project\":\"https://www.kickstarter.com...</td>\n",
       "      <td>https://www.kickstarter.com/discover/categorie...</td>\n",
       "      <td>NaN</td>\n",
       "      <td>NaN</td>\n",
       "      <td>NaN</td>\n",
       "      <td>NaN</td>\n",
       "    </tr>\n",
       "  </tbody>\n",
       "</table>\n",
       "<p>5 rows × 24 columns</p>\n",
       "</div>"
      ],
      "text/plain": [
       "                                                        photo  \\\n",
       "id                                                              \n",
       "810643898   {\"small\":\"https://ksr-ugc.imgix.net/assets/011...   \n",
       "407153952   {\"small\":\"https://ksr-ugc.imgix.net/assets/011...   \n",
       "531190382   {\"small\":\"https://ksr-ugc.imgix.net/assets/011...   \n",
       "1253528325  {\"small\":\"https://ksr-ugc.imgix.net/assets/012...   \n",
       "379783411   {\"small\":\"https://ksr-ugc.imgix.net/assets/011...   \n",
       "\n",
       "                                                         name  \\\n",
       "id                                                              \n",
       "810643898   Reverence: A Documentary Short on Branded Yarm...   \n",
       "407153952   YOU Release the NEW Goddamn Electric Bill VINY...   \n",
       "531190382                                Lonely Estates Album   \n",
       "1253528325  Crit Hit! 2016 - a tabletop roleplaying gather...   \n",
       "379783411                   Hillsboro Arts Preschool Yearbook   \n",
       "\n",
       "                                                        blurb    goal  \\\n",
       "id                                                                      \n",
       "810643898   A documentary exploring the phenomenon of cust...  6000.0   \n",
       "407153952   Guarantee yourself one of 250 limited vinyl re...  1500.0   \n",
       "531190382   Lonely Estates are almost done with their debu...  1000.0   \n",
       "1253528325  A tabletop RPG focused event where you can pla...  3000.0   \n",
       "379783411   The Yearbook will be a collection of drawings,...  2500.0   \n",
       "\n",
       "                                                         slug  \\\n",
       "id                                                              \n",
       "810643898   reverence-a-documentary-short-on-custom-yarmulkes   \n",
       "407153952   you-release-the-new-goddamn-electric-bill-viny...   \n",
       "531190382                                lonely-estates-album   \n",
       "1253528325  crit-hit-2016-a-tabletop-roleplaying-gathering-in   \n",
       "379783411                   hillsboro-arts-preschool-yearbook   \n",
       "\n",
       "            disable_communication country currency currency_symbol  \\\n",
       "id                                                                   \n",
       "810643898                   False      US      USD               $   \n",
       "407153952                   False      US      USD               $   \n",
       "531190382                   False      US      USD               $   \n",
       "1253528325                  False      US      USD               $   \n",
       "379783411                   False      US      USD               $   \n",
       "\n",
       "            currency_trailing_code  ...  \\\n",
       "id                                  ...   \n",
       "810643898                     True  ...   \n",
       "407153952                     True  ...   \n",
       "531190382                     True  ...   \n",
       "1253528325                    True  ...   \n",
       "379783411                     True  ...   \n",
       "\n",
       "                                                      creator  \\\n",
       "id                                                              \n",
       "810643898   {\"urls\":{\"web\":{\"user\":\"https://www.kickstarte...   \n",
       "407153952   {\"urls\":{\"web\":{\"user\":\"https://www.kickstarte...   \n",
       "531190382   {\"urls\":{\"web\":{\"user\":\"https://www.kickstarte...   \n",
       "1253528325  {\"urls\":{\"web\":{\"user\":\"https://www.kickstarte...   \n",
       "379783411   {\"urls\":{\"web\":{\"user\":\"https://www.kickstarte...   \n",
       "\n",
       "                                                     location  \\\n",
       "id                                                              \n",
       "810643898   {\"country\":\"US\",\"urls\":{\"web\":{\"discover\":\"htt...   \n",
       "407153952   {\"country\":\"US\",\"urls\":{\"web\":{\"discover\":\"htt...   \n",
       "531190382   {\"country\":\"US\",\"urls\":{\"web\":{\"discover\":\"htt...   \n",
       "1253528325  {\"country\":\"US\",\"urls\":{\"web\":{\"discover\":\"htt...   \n",
       "379783411   {\"country\":\"US\",\"urls\":{\"web\":{\"discover\":\"htt...   \n",
       "\n",
       "                                                     category  \\\n",
       "id                                                              \n",
       "810643898   {\"urls\":{\"web\":{\"discover\":\"http://www.kicksta...   \n",
       "407153952   {\"urls\":{\"web\":{\"discover\":\"http://www.kicksta...   \n",
       "531190382   {\"urls\":{\"web\":{\"discover\":\"http://www.kicksta...   \n",
       "1253528325  {\"urls\":{\"web\":{\"discover\":\"http://www.kicksta...   \n",
       "379783411   {\"urls\":{\"web\":{\"discover\":\"http://www.kicksta...   \n",
       "\n",
       "                                                      profile  \\\n",
       "id                                                              \n",
       "810643898   {\"background_image_opacity\":0.8,\"should_show_f...   \n",
       "407153952   {\"background_image_opacity\":0.8,\"should_show_f...   \n",
       "531190382   {\"background_image_opacity\":0.8,\"should_show_f...   \n",
       "1253528325  {\"background_image_opacity\":1,\"should_show_fea...   \n",
       "379783411   {\"background_image_opacity\":0.8,\"should_show_f...   \n",
       "\n",
       "                                                         urls  \\\n",
       "id                                                              \n",
       "810643898   {\"web\":{\"project\":\"https://www.kickstarter.com...   \n",
       "407153952   {\"web\":{\"project\":\"https://www.kickstarter.com...   \n",
       "531190382   {\"web\":{\"project\":\"https://www.kickstarter.com...   \n",
       "1253528325  {\"web\":{\"project\":\"https://www.kickstarter.com...   \n",
       "379783411   {\"web\":{\"project\":\"https://www.kickstarter.com...   \n",
       "\n",
       "                                                   source_url friends  \\\n",
       "id                                                                      \n",
       "810643898   https://www.kickstarter.com/discover/categorie...     NaN   \n",
       "407153952   https://www.kickstarter.com/discover/categorie...     NaN   \n",
       "531190382   https://www.kickstarter.com/discover/categorie...     NaN   \n",
       "1253528325  https://www.kickstarter.com/discover/categorie...     NaN   \n",
       "379783411   https://www.kickstarter.com/discover/categorie...     NaN   \n",
       "\n",
       "           is_starred is_backing permissions  \n",
       "id                                            \n",
       "810643898         NaN        NaN         NaN  \n",
       "407153952         NaN        NaN         NaN  \n",
       "531190382         NaN        NaN         NaN  \n",
       "1253528325        NaN        NaN         NaN  \n",
       "379783411         NaN        NaN         NaN  \n",
       "\n",
       "[5 rows x 24 columns]"
      ]
     },
     "execution_count": 3,
     "metadata": {},
     "output_type": "execute_result"
    }
   ],
   "source": [
    "X_train.head()"
   ]
  },
  {
   "cell_type": "markdown",
   "metadata": {},
   "source": [
    "# Part 1: Custom Transformers"
   ]
  },
  {
   "cell_type": "code",
   "execution_count": 34,
   "metadata": {},
   "outputs": [
    {
     "data": {
      "text/plain": [
       "'{\"urls\":{\"web\":{\"discover\":\"http://www.kickstarter.com/discover/categories/film%20&%20video/documentary\"}},\"color\":16734574,\"parent_id\":11,\"name\":\"Documentary\",\"id\":30,\"position\":4,\"slug\":\"film & video/documentary\"}'"
      ]
     },
     "execution_count": 34,
     "metadata": {},
     "output_type": "execute_result"
    }
   ],
   "source": [
    "X_train.category.iloc[0]"
   ]
  },
  {
   "cell_type": "markdown",
   "metadata": {},
   "source": [
    "## CategoriesExtractor"
   ]
  },
  {
   "cell_type": "markdown",
   "metadata": {},
   "source": [
    "Here we will create a new transformer that allows to extra categories from the `category` column that is stored as a json. We want this transformer to have a parameter `use_all` that allows us to choose between filtering to use only a subset of hardcoded categories we care about or get all categories found in the json.\n",
    "\n",
    "The `transform` method should return two new columns, `gen_cat` the generic categorie, and `precise_cat` the precise category, those are extracted by assuming the json contains a string in the format `gen_cat/precise_cat`. We provide the method `extract_slug` that gets the two categories, and filter if necessary, so you only have to implement `fit` and `transform` to return the two new columns we want.\n",
    "\n",
    "If your transformer is correctly implemented, the code below should return the correct new columns:"
   ]
  },
  {
   "cell_type": "code",
   "execution_count": 29,
   "metadata": {},
   "outputs": [],
   "source": [
    "from transformers import CategoriesExtractor\n",
    "ce = CategoriesExtractor(use_all=False)"
   ]
  },
  {
   "cell_type": "code",
   "execution_count": 32,
   "metadata": {},
   "outputs": [
    {
     "data": {
      "text/plain": [
       "id\n",
       "810643898     film & video\n",
       "407153952            music\n",
       "531190382            music\n",
       "1253528325           games\n",
       "379783411       publishing\n",
       "Name: category, dtype: object"
      ]
     },
     "execution_count": 32,
     "metadata": {},
     "output_type": "execute_result"
    }
   ],
   "source": [
    "X_train.category.apply(lambda x: ce._get_slug(x)[0]).head()"
   ]
  },
  {
   "cell_type": "code",
   "execution_count": 33,
   "metadata": {},
   "outputs": [
    {
     "data": {
      "text/plain": [
       "id\n",
       "810643898     documentary\n",
       "407153952            misc\n",
       "531190382            rock\n",
       "1253528325           misc\n",
       "379783411            misc\n",
       "Name: category, dtype: object"
      ]
     },
     "execution_count": 33,
     "metadata": {},
     "output_type": "execute_result"
    }
   ],
   "source": [
    "X_train.category.apply(lambda x: ce._get_slug(x)[1]).head()"
   ]
  },
  {
   "cell_type": "code",
   "execution_count": 25,
   "metadata": {},
   "outputs": [
    {
     "data": {
      "text/html": [
       "<div>\n",
       "<style scoped>\n",
       "    .dataframe tbody tr th:only-of-type {\n",
       "        vertical-align: middle;\n",
       "    }\n",
       "\n",
       "    .dataframe tbody tr th {\n",
       "        vertical-align: top;\n",
       "    }\n",
       "\n",
       "    .dataframe thead th {\n",
       "        text-align: right;\n",
       "    }\n",
       "</style>\n",
       "<table border=\"1\" class=\"dataframe\">\n",
       "  <thead>\n",
       "    <tr style=\"text-align: right;\">\n",
       "      <th></th>\n",
       "      <th>gen_cat</th>\n",
       "      <th>precise_cat</th>\n",
       "    </tr>\n",
       "    <tr>\n",
       "      <th>id</th>\n",
       "      <th></th>\n",
       "      <th></th>\n",
       "    </tr>\n",
       "  </thead>\n",
       "  <tbody>\n",
       "    <tr>\n",
       "      <th>810643898</th>\n",
       "      <td>film &amp; video</td>\n",
       "      <td>documentary</td>\n",
       "    </tr>\n",
       "    <tr>\n",
       "      <th>407153952</th>\n",
       "      <td>music</td>\n",
       "      <td>misc</td>\n",
       "    </tr>\n",
       "    <tr>\n",
       "      <th>531190382</th>\n",
       "      <td>music</td>\n",
       "      <td>rock</td>\n",
       "    </tr>\n",
       "    <tr>\n",
       "      <th>1253528325</th>\n",
       "      <td>games</td>\n",
       "      <td>misc</td>\n",
       "    </tr>\n",
       "    <tr>\n",
       "      <th>379783411</th>\n",
       "      <td>publishing</td>\n",
       "      <td>misc</td>\n",
       "    </tr>\n",
       "  </tbody>\n",
       "</table>\n",
       "</div>"
      ],
      "text/plain": [
       "                 gen_cat  precise_cat\n",
       "id                                   \n",
       "810643898   film & video  documentary\n",
       "407153952          music         misc\n",
       "531190382          music         rock\n",
       "1253528325         games         misc\n",
       "379783411     publishing         misc"
      ]
     },
     "execution_count": 25,
     "metadata": {},
     "output_type": "execute_result"
    }
   ],
   "source": [
    "from transformers import CategoriesExtractor\n",
    "\n",
    "ce = CategoriesExtractor(use_all=False)\n",
    "ce.fit(X_train)\n",
    "ce.transform(X_train).head()"
   ]
  },
  {
   "cell_type": "code",
   "execution_count": 27,
   "metadata": {},
   "outputs": [
    {
     "data": {
      "text/plain": [
       "(10000, 2)"
      ]
     },
     "execution_count": 27,
     "metadata": {},
     "output_type": "execute_result"
    }
   ],
   "source": [
    "ce.transform(X_train).shape"
   ]
  },
  {
   "cell_type": "code",
   "execution_count": 28,
   "metadata": {},
   "outputs": [
    {
     "data": {
      "text/plain": [
       "(10000, 24)"
      ]
     },
     "execution_count": 28,
     "metadata": {},
     "output_type": "execute_result"
    }
   ],
   "source": [
    "X_train.shape"
   ]
  },
  {
   "cell_type": "markdown",
   "metadata": {},
   "source": [
    "## GoalAdjustor"
   ]
  },
  {
   "cell_type": "markdown",
   "metadata": {},
   "source": [
    "Here we want to build a simple transformer that returns a column `adjusted_goal` which is the goal multiplied by the static_USD_rate"
   ]
  },
  {
   "cell_type": "code",
   "execution_count": 41,
   "metadata": {},
   "outputs": [
    {
     "data": {
      "text/plain": [
       "Index(['photo', 'name', 'blurb', 'goal', 'slug', 'disable_communication',\n",
       "       'country', 'currency', 'currency_symbol', 'currency_trailing_code',\n",
       "       'deadline', 'created_at', 'launched_at', 'static_usd_rate', 'creator',\n",
       "       'location', 'category', 'profile', 'urls', 'source_url', 'friends',\n",
       "       'is_starred', 'is_backing', 'permissions'],\n",
       "      dtype='object')"
      ]
     },
     "execution_count": 41,
     "metadata": {},
     "output_type": "execute_result"
    }
   ],
   "source": [
    "X_train.columns"
   ]
  },
  {
   "cell_type": "code",
   "execution_count": 40,
   "metadata": {},
   "outputs": [
    {
     "data": {
      "text/plain": [
       "id\n",
       "810643898     1.0\n",
       "407153952     1.0\n",
       "531190382     1.0\n",
       "1253528325    1.0\n",
       "379783411     1.0\n",
       "Name: static_usd_rate, dtype: float64"
      ]
     },
     "execution_count": 40,
     "metadata": {},
     "output_type": "execute_result"
    }
   ],
   "source": [
    "X_train.static_usd_rate.head()"
   ]
  },
  {
   "cell_type": "code",
   "execution_count": 44,
   "metadata": {},
   "outputs": [
    {
     "data": {
      "text/html": [
       "<div>\n",
       "<style scoped>\n",
       "    .dataframe tbody tr th:only-of-type {\n",
       "        vertical-align: middle;\n",
       "    }\n",
       "\n",
       "    .dataframe tbody tr th {\n",
       "        vertical-align: top;\n",
       "    }\n",
       "\n",
       "    .dataframe thead th {\n",
       "        text-align: right;\n",
       "    }\n",
       "</style>\n",
       "<table border=\"1\" class=\"dataframe\">\n",
       "  <thead>\n",
       "    <tr style=\"text-align: right;\">\n",
       "      <th></th>\n",
       "      <th>adjusted_goal</th>\n",
       "    </tr>\n",
       "    <tr>\n",
       "      <th>id</th>\n",
       "      <th></th>\n",
       "    </tr>\n",
       "  </thead>\n",
       "  <tbody>\n",
       "    <tr>\n",
       "      <th>810643898</th>\n",
       "      <td>6000.0</td>\n",
       "    </tr>\n",
       "    <tr>\n",
       "      <th>407153952</th>\n",
       "      <td>1500.0</td>\n",
       "    </tr>\n",
       "    <tr>\n",
       "      <th>531190382</th>\n",
       "      <td>1000.0</td>\n",
       "    </tr>\n",
       "    <tr>\n",
       "      <th>1253528325</th>\n",
       "      <td>3000.0</td>\n",
       "    </tr>\n",
       "    <tr>\n",
       "      <th>379783411</th>\n",
       "      <td>2500.0</td>\n",
       "    </tr>\n",
       "  </tbody>\n",
       "</table>\n",
       "</div>"
      ],
      "text/plain": [
       "            adjusted_goal\n",
       "id                       \n",
       "810643898          6000.0\n",
       "407153952          1500.0\n",
       "531190382          1000.0\n",
       "1253528325         3000.0\n",
       "379783411          2500.0"
      ]
     },
     "execution_count": 44,
     "metadata": {},
     "output_type": "execute_result"
    }
   ],
   "source": [
    "from transformers import GoalAdjustor\n",
    "\n",
    "ga = GoalAdjustor()\n",
    "ga.fit_transform(X_train).head()"
   ]
  },
  {
   "cell_type": "markdown",
   "metadata": {},
   "source": [
    "## TimeTransformer"
   ]
  },
  {
   "cell_type": "markdown",
   "metadata": {},
   "source": [
    "Here we want to build a transformer that returns two columns: \n",
    "- `launched_to_deadline`: the number of days between launching day and the deadline\n",
    "- `created_to_launched`: the number of days between the creation of the page and the launch\n",
    "\n",
    "Note: to load the timestamp into datetime object you can multiply the timestamp by the constant `adj` defined in the class and then use the to_datetime function from pandas."
   ]
  },
  {
   "cell_type": "code",
   "execution_count": 45,
   "metadata": {},
   "outputs": [
    {
     "data": {
      "text/plain": [
       "Index(['photo', 'name', 'blurb', 'goal', 'slug', 'disable_communication',\n",
       "       'country', 'currency', 'currency_symbol', 'currency_trailing_code',\n",
       "       'deadline', 'created_at', 'launched_at', 'static_usd_rate', 'creator',\n",
       "       'location', 'category', 'profile', 'urls', 'source_url', 'friends',\n",
       "       'is_starred', 'is_backing', 'permissions'],\n",
       "      dtype='object')"
      ]
     },
     "execution_count": 45,
     "metadata": {},
     "output_type": "execute_result"
    }
   ],
   "source": [
    "X_train.columns"
   ]
  },
  {
   "cell_type": "code",
   "execution_count": 51,
   "metadata": {},
   "outputs": [
    {
     "data": {
      "text/plain": [
       "deadline       1383676790\n",
       "launched_at    1380217190\n",
       "Name: 810643898, dtype: object"
      ]
     },
     "execution_count": 51,
     "metadata": {},
     "output_type": "execute_result"
    }
   ],
   "source": [
    "X_train.iloc[0].loc[['deadline', 'launched_at']]"
   ]
  },
  {
   "cell_type": "code",
   "execution_count": 96,
   "metadata": {},
   "outputs": [
    {
     "data": {
      "text/html": [
       "<div>\n",
       "<style scoped>\n",
       "    .dataframe tbody tr th:only-of-type {\n",
       "        vertical-align: middle;\n",
       "    }\n",
       "\n",
       "    .dataframe tbody tr th {\n",
       "        vertical-align: top;\n",
       "    }\n",
       "\n",
       "    .dataframe thead th {\n",
       "        text-align: right;\n",
       "    }\n",
       "</style>\n",
       "<table border=\"1\" class=\"dataframe\">\n",
       "  <thead>\n",
       "    <tr style=\"text-align: right;\">\n",
       "      <th></th>\n",
       "      <th>launched_to_deadline</th>\n",
       "      <th>created_to_launched</th>\n",
       "    </tr>\n",
       "    <tr>\n",
       "      <th>id</th>\n",
       "      <th></th>\n",
       "      <th></th>\n",
       "    </tr>\n",
       "  </thead>\n",
       "  <tbody>\n",
       "    <tr>\n",
       "      <th>810643898</th>\n",
       "      <td>40</td>\n",
       "      <td>24</td>\n",
       "    </tr>\n",
       "    <tr>\n",
       "      <th>407153952</th>\n",
       "      <td>29</td>\n",
       "      <td>2</td>\n",
       "    </tr>\n",
       "    <tr>\n",
       "      <th>531190382</th>\n",
       "      <td>21</td>\n",
       "      <td>21</td>\n",
       "    </tr>\n",
       "    <tr>\n",
       "      <th>1253528325</th>\n",
       "      <td>39</td>\n",
       "      <td>61</td>\n",
       "    </tr>\n",
       "    <tr>\n",
       "      <th>379783411</th>\n",
       "      <td>30</td>\n",
       "      <td>201</td>\n",
       "    </tr>\n",
       "  </tbody>\n",
       "</table>\n",
       "</div>"
      ],
      "text/plain": [
       "            launched_to_deadline  created_to_launched\n",
       "id                                                   \n",
       "810643898                     40                   24\n",
       "407153952                     29                    2\n",
       "531190382                     21                   21\n",
       "1253528325                    39                   61\n",
       "379783411                     30                  201"
      ]
     },
     "execution_count": 96,
     "metadata": {},
     "output_type": "execute_result"
    }
   ],
   "source": [
    "from transformers import TimeTransformer\n",
    "\n",
    "tt = TimeTransformer()\n",
    "tt.fit_transform(X_train).head()"
   ]
  },
  {
   "cell_type": "markdown",
   "metadata": {},
   "source": [
    "## CountryTransformer"
   ]
  },
  {
   "cell_type": "markdown",
   "metadata": {},
   "source": [
    "This transformer returns a larger area for the country feature, allowing to have less dummy features later. We provide a dictionary of countries and their corresponding groups, but feel free to change those depending on similarities you see between countries."
   ]
  },
  {
   "cell_type": "code",
   "execution_count": 98,
   "metadata": {},
   "outputs": [
    {
     "data": {
      "text/plain": [
       "Index(['photo', 'name', 'blurb', 'goal', 'slug', 'disable_communication',\n",
       "       'country', 'currency', 'currency_symbol', 'currency_trailing_code',\n",
       "       'deadline', 'created_at', 'launched_at', 'static_usd_rate', 'creator',\n",
       "       'location', 'category', 'profile', 'urls', 'source_url', 'friends',\n",
       "       'is_starred', 'is_backing', 'permissions'],\n",
       "      dtype='object')"
      ]
     },
     "execution_count": 98,
     "metadata": {},
     "output_type": "execute_result"
    }
   ],
   "source": [
    "X_train.columns"
   ]
  },
  {
   "cell_type": "code",
   "execution_count": 103,
   "metadata": {},
   "outputs": [
    {
     "data": {
      "text/html": [
       "<div>\n",
       "<style scoped>\n",
       "    .dataframe tbody tr th:only-of-type {\n",
       "        vertical-align: middle;\n",
       "    }\n",
       "\n",
       "    .dataframe tbody tr th {\n",
       "        vertical-align: top;\n",
       "    }\n",
       "\n",
       "    .dataframe thead th {\n",
       "        text-align: right;\n",
       "    }\n",
       "</style>\n",
       "<table border=\"1\" class=\"dataframe\">\n",
       "  <thead>\n",
       "    <tr style=\"text-align: right;\">\n",
       "      <th></th>\n",
       "      <th>country</th>\n",
       "    </tr>\n",
       "    <tr>\n",
       "      <th>id</th>\n",
       "      <th></th>\n",
       "    </tr>\n",
       "  </thead>\n",
       "  <tbody>\n",
       "    <tr>\n",
       "      <th>170993979</th>\n",
       "      <td>US</td>\n",
       "    </tr>\n",
       "    <tr>\n",
       "      <th>1640134491</th>\n",
       "      <td>US</td>\n",
       "    </tr>\n",
       "    <tr>\n",
       "      <th>1867035562</th>\n",
       "      <td>Oceania</td>\n",
       "    </tr>\n",
       "    <tr>\n",
       "      <th>2069677033</th>\n",
       "      <td>US</td>\n",
       "    </tr>\n",
       "    <tr>\n",
       "      <th>1508881112</th>\n",
       "      <td>US</td>\n",
       "    </tr>\n",
       "    <tr>\n",
       "      <th>876711018</th>\n",
       "      <td>UK &amp; Ireland</td>\n",
       "    </tr>\n",
       "    <tr>\n",
       "      <th>962866307</th>\n",
       "      <td>Europe</td>\n",
       "    </tr>\n",
       "    <tr>\n",
       "      <th>2097061414</th>\n",
       "      <td>US</td>\n",
       "    </tr>\n",
       "    <tr>\n",
       "      <th>1406986200</th>\n",
       "      <td>Europe</td>\n",
       "    </tr>\n",
       "    <tr>\n",
       "      <th>1786207616</th>\n",
       "      <td>US</td>\n",
       "    </tr>\n",
       "  </tbody>\n",
       "</table>\n",
       "</div>"
      ],
      "text/plain": [
       "                 country\n",
       "id                      \n",
       "170993979             US\n",
       "1640134491            US\n",
       "1867035562       Oceania\n",
       "2069677033            US\n",
       "1508881112            US\n",
       "876711018   UK & Ireland\n",
       "962866307         Europe\n",
       "2097061414            US\n",
       "1406986200        Europe\n",
       "1786207616            US"
      ]
     },
     "execution_count": 103,
     "metadata": {},
     "output_type": "execute_result"
    }
   ],
   "source": [
    "from transformers import CountryTransformer\n",
    "\n",
    "ct = CountryTransformer()\n",
    "ct.fit_transform(X_train).sample(10)"
   ]
  },
  {
   "cell_type": "markdown",
   "metadata": {},
   "source": [
    "# Part 2: Column Transformer and Pipeline"
   ]
  },
  {
   "cell_type": "markdown",
   "metadata": {},
   "source": [
    "Here we will implement the `build_model` function that is defined in `model.py`. This function should return a new Pipeline object that has two stages:\n",
    "- `preprocessor`: A ColumnTransformer object that has all your preprocessing steps\n",
    "- `model`: A predictive model, here we will use the `DecisionTreeClassifier`\n",
    "\n",
    "We are providing code to build two simple intermediary Pipeline objects: `cat_processor` and `country_processor`. Those are just combining our `CategoriesExtractor` and `CountryTransformer` with a `OneHotEncoder` stage so the output is an array of 1 and 0 for all.\n",
    "\n",
    "You only have to implement: \n",
    "- the main ColumnTransformer that puts all the transformers together and applies them on the right columns\n",
    "- the final Pipeline object that puts together the preprocessor and model.\n",
    "\n",
    "The code below will get a new model using your function, train it on the data and generate predictions"
   ]
  },
  {
   "cell_type": "code",
   "execution_count": 104,
   "metadata": {},
   "outputs": [
    {
     "data": {
      "text/plain": [
       "Index(['photo', 'name', 'blurb', 'goal', 'slug', 'disable_communication',\n",
       "       'country', 'currency', 'currency_symbol', 'currency_trailing_code',\n",
       "       'deadline', 'created_at', 'launched_at', 'static_usd_rate', 'creator',\n",
       "       'location', 'category', 'profile', 'urls', 'source_url', 'friends',\n",
       "       'is_starred', 'is_backing', 'permissions'],\n",
       "      dtype='object')"
      ]
     },
     "execution_count": 104,
     "metadata": {},
     "output_type": "execute_result"
    }
   ],
   "source": [
    "X_train.columns"
   ]
  },
  {
   "cell_type": "code",
   "execution_count": 107,
   "metadata": {},
   "outputs": [
    {
     "data": {
      "text/plain": [
       "array([1, 1, 1, ..., 0, 1, 1])"
      ]
     },
     "execution_count": 107,
     "metadata": {},
     "output_type": "execute_result"
    }
   ],
   "source": [
    "from model import build_model\n",
    "\n",
    "model = build_model()\n",
    "model.fit(X_train, y_train)\n",
    "model.predict(X_train)"
   ]
  },
  {
   "cell_type": "markdown",
   "metadata": {},
   "source": [
    "# Part 3: tuning, training and testing."
   ]
  },
  {
   "cell_type": "markdown",
   "metadata": {},
   "source": [
    "## Tuning"
   ]
  },
  {
   "cell_type": "markdown",
   "metadata": {},
   "source": [
    "First, implement `tune_model` that loads the data (we have a function to do that already), instanciate a model (we have a function for it), runs a gridsearch on it (load `GRID_PARAMS` from `config.py` to use in the grid search).\n",
    "\n",
    "It should then print out the best score and hyperparameters found. \n",
    "\n",
    "The code below should run your tuning function and print the best parameters. Before running it, make sure you define some parameters to tune in `GRID_PARAMS`, those have to match the pipeline format, you can get a list of all parameters' names in your model by doing `model.get_params().keys()`\n",
    "\n",
    "\n",
    "Node: Depending on your use case you might prefer to return the values instead of printing them, but here to keep things simple we will assume that the user then modifies the config manually."
   ]
  },
  {
   "cell_type": "code",
   "execution_count": 114,
   "metadata": {},
   "outputs": [
    {
     "data": {
      "text/plain": [
       "dict_keys(['memory', 'steps', 'verbose', 'preprocessor', 'model', 'preprocessor__n_jobs', 'preprocessor__remainder', 'preprocessor__sparse_threshold', 'preprocessor__transformer_weights', 'preprocessor__transformers', 'preprocessor__verbose', 'preprocessor__goal', 'preprocessor__categories', 'preprocessor__disable_communication', 'preprocessor__time', 'preprocessor__countries', 'preprocessor__categories__memory', 'preprocessor__categories__steps', 'preprocessor__categories__verbose', 'preprocessor__categories__transformer', 'preprocessor__categories__one_hot', 'preprocessor__categories__transformer__use_all', 'preprocessor__categories__one_hot__categorical_features', 'preprocessor__categories__one_hot__categories', 'preprocessor__categories__one_hot__drop', 'preprocessor__categories__one_hot__dtype', 'preprocessor__categories__one_hot__handle_unknown', 'preprocessor__categories__one_hot__n_values', 'preprocessor__categories__one_hot__sparse', 'preprocessor__countries__memory', 'preprocessor__countries__steps', 'preprocessor__countries__verbose', 'preprocessor__countries__transformer', 'preprocessor__countries__one_hot', 'preprocessor__countries__one_hot__categorical_features', 'preprocessor__countries__one_hot__categories', 'preprocessor__countries__one_hot__drop', 'preprocessor__countries__one_hot__dtype', 'preprocessor__countries__one_hot__handle_unknown', 'preprocessor__countries__one_hot__n_values', 'preprocessor__countries__one_hot__sparse', 'model__class_weight', 'model__criterion', 'model__max_depth', 'model__max_features', 'model__max_leaf_nodes', 'model__min_impurity_decrease', 'model__min_impurity_split', 'model__min_samples_leaf', 'model__min_samples_split', 'model__min_weight_fraction_leaf', 'model__presort', 'model__random_state', 'model__splitter'])"
      ]
     },
     "execution_count": 114,
     "metadata": {},
     "output_type": "execute_result"
    }
   ],
   "source": [
    "model = build_model()\n",
    "model.get_params().keys()"
   ]
  },
  {
   "cell_type": "code",
   "execution_count": 116,
   "metadata": {},
   "outputs": [
    {
     "name": "stdout",
     "output_type": "stream",
     "text": [
      "Best Hyperparameters: {'model__max_depth': 9, 'model__min_samples_split': 5, 'preprocessor__categories__transformer__use_all': True}\n",
      "Best score: 67.64%\n"
     ]
    }
   ],
   "source": [
    "from model import tune_model\n",
    "\n",
    "tune_model()"
   ]
  },
  {
   "cell_type": "markdown",
   "metadata": {},
   "source": [
    "## Training"
   ]
  },
  {
   "cell_type": "markdown",
   "metadata": {},
   "source": [
    "For training, implement `train_model` that loads data and model, uses `set_params` to set the parameters of the model to those defined in `PARAMS` inside `config.py` (make sure you use `**PARAMS` in set_params so it unpacks the dictionary).\n",
    "\n",
    "It should then train the model and use `joblib` to save it as a file. The file should be name after the variable `MODEL_NAME`, again defined in config."
   ]
  },
  {
   "cell_type": "code",
   "execution_count": 117,
   "metadata": {},
   "outputs": [],
   "source": [
    "from model import train_model\n",
    "\n",
    "train_model()"
   ]
  },
  {
   "cell_type": "markdown",
   "metadata": {},
   "source": [
    "If this properly saved a model, the code below should load it and generate predictions:"
   ]
  },
  {
   "cell_type": "code",
   "execution_count": 118,
   "metadata": {},
   "outputs": [
    {
     "data": {
      "text/plain": [
       "array([1, 0, 1, ..., 1, 1, 0])"
      ]
     },
     "execution_count": 118,
     "metadata": {},
     "output_type": "execute_result"
    }
   ],
   "source": [
    "import joblib\n",
    "\n",
    "model_loaded = joblib.load(\"model.joblib\")\n",
    "model_loaded.predict(X_train)"
   ]
  },
  {
   "cell_type": "markdown",
   "metadata": {},
   "source": [
    "## Testing"
   ]
  },
  {
   "cell_type": "markdown",
   "metadata": {},
   "source": [
    "For testing, we will need to load the test dataset, the model that we have saved in joblib format (dont instanciate a new model), generate prediction and print metrics such as accuracy score:"
   ]
  },
  {
   "cell_type": "code",
   "execution_count": 119,
   "metadata": {},
   "outputs": [
    {
     "name": "stdout",
     "output_type": "stream",
     "text": [
      "Accuracy on the test set: 65.79%\n",
      "              precision    recall  f1-score   support\n",
      "\n",
      "           0       0.69      0.61      0.65       511\n",
      "           1       0.63      0.70      0.66       474\n",
      "\n",
      "    accuracy                           0.66       985\n",
      "   macro avg       0.66      0.66      0.66       985\n",
      "weighted avg       0.66      0.66      0.66       985\n",
      "\n"
     ]
    }
   ],
   "source": [
    "from model import test_model\n",
    "\n",
    "test_model()"
   ]
  },
  {
   "cell_type": "markdown",
   "metadata": {},
   "source": [
    "# Finally"
   ]
  },
  {
   "cell_type": "markdown",
   "metadata": {},
   "source": [
    "Great, now that you have implemented everything, you can use the `run.py` script to work with your model on the command line:\n",
    "\n",
    "- `python run.py tune`: will tune your model\n",
    "- `python run.py train`: will train it\n",
    "- `python run.py test`: will test it"
   ]
  },
  {
   "cell_type": "code",
   "execution_count": 120,
   "metadata": {},
   "outputs": [
    {
     "name": "stdout",
     "output_type": "stream",
     "text": [
      "Tuning model...\n",
      "Best Hyperparameters: {'model__max_depth': 9, 'model__min_samples_split': 5, 'preprocessor__categories__transformer__use_all': True}\n",
      "Best score: 67.64%\n"
     ]
    }
   ],
   "source": [
    "!python run.py tune"
   ]
  },
  {
   "cell_type": "code",
   "execution_count": 122,
   "metadata": {},
   "outputs": [
    {
     "name": "stdout",
     "output_type": "stream",
     "text": [
      "Training model...\n",
      "Model was saved\n"
     ]
    }
   ],
   "source": [
    "!python run.py train"
   ]
  },
  {
   "cell_type": "code",
   "execution_count": 123,
   "metadata": {},
   "outputs": [
    {
     "name": "stdout",
     "output_type": "stream",
     "text": [
      "Testing model...\n",
      "Accuracy on the test set: 65.79%\n",
      "              precision    recall  f1-score   support\n",
      "\n",
      "           0       0.69      0.61      0.65       511\n",
      "           1       0.63      0.70      0.66       474\n",
      "\n",
      "    accuracy                           0.66       985\n",
      "   macro avg       0.66      0.66      0.66       985\n",
      "weighted avg       0.66      0.66      0.66       985\n",
      "\n"
     ]
    }
   ],
   "source": [
    "!python run.py test "
   ]
  },
  {
   "cell_type": "code",
   "execution_count": null,
   "metadata": {},
   "outputs": [],
   "source": []
  }
 ],
 "metadata": {
  "kernelspec": {
   "display_name": "Python 3",
   "language": "python",
   "name": "python3"
  },
  "language_info": {
   "codemirror_mode": {
    "name": "ipython",
    "version": 3
   },
   "file_extension": ".py",
   "mimetype": "text/x-python",
   "name": "python",
   "nbconvert_exporter": "python",
   "pygments_lexer": "ipython3",
   "version": "3.6.8"
  }
 },
 "nbformat": 4,
 "nbformat_minor": 2
}
